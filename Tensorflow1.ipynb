{
  "nbformat": 4,
  "nbformat_minor": 0,
  "metadata": {
    "colab": {
      "provenance": [],
      "authorship_tag": "ABX9TyOK0xQJHvPmT6FWW/OKEhA/",
      "include_colab_link": true
    },
    "kernelspec": {
      "name": "python3",
      "display_name": "Python 3"
    },
    "language_info": {
      "name": "python"
    }
  },
  "cells": [
    {
      "cell_type": "markdown",
      "metadata": {
        "id": "view-in-github",
        "colab_type": "text"
      },
      "source": [
        "<a href=\"https://colab.research.google.com/github/Nubaid0401/AI_Repose/blob/main/Tensorflow1.ipynb\" target=\"_parent\"><img src=\"https://colab.research.google.com/assets/colab-badge.svg\" alt=\"Open In Colab\"/></a>"
      ]
    },
    {
      "cell_type": "code",
      "execution_count": 2,
      "metadata": {
        "id": "LXRXZLZUh8Qt"
      },
      "outputs": [],
      "source": [
        "# Step 1: Install and Import Required Libraries\n",
        "!pip install -q tensorflow\n",
        "\n",
        "import tensorflow as tf\n",
        "from tensorflow.keras.models import Sequential\n",
        "from tensorflow.keras.layers import Dense\n",
        "from tensorflow.keras.preprocessing.text import Tokenizer\n",
        "from tensorflow.keras.preprocessing.sequence import pad_sequences\n",
        "import numpy as np\n",
        "\n",
        "# Step 2: Define Training Data\n",
        "sentences = [\n",
        "    \"hi\", \"hello\", \"hey\", \"good morning\", \"good evening\",\n",
        "    \"bye\", \"goodbye\", \"see you\", \"take care\",\n",
        "    \"thanks\", \"thank you\", \"much appreciated\",\n",
        "    \"help me\", \"i need help\", \"can you help me\"\n",
        "]\n",
        "\n",
        "labels = [\n",
        "    \"greeting\", \"greeting\", \"greeting\", \"greeting\", \"greeting\",\n",
        "    \"farewell\", \"farewell\", \"farewell\", \"farewell\",\n",
        "    \"thanks\", \"thanks\", \"thanks\",\n",
        "    \"help\", \"help\", \"help\"\n",
        "]\n",
        "\n",
        "# Step 3: Convert Labels to Numbers\n",
        "label_tokenizer = Tokenizer()\n",
        "label_tokenizer.fit_on_texts(labels)\n",
        "label_seq = np.array(label_tokenizer.texts_to_sequences(labels)) - 1  # start from 0\n",
        "\n",
        "# Step 4: Tokenize the Sentences\n",
        "vocab_size = 100\n",
        "tokenizer = Tokenizer(num_words=vocab_size, oov_token=\"<OOV>\")\n",
        "tokenizer.fit_on_texts(sentences)\n",
        "sequences = tokenizer.texts_to_sequences(sentences)\n",
        "padded = pad_sequences(sequences, padding='post')\n",
        "\n",
        "# Step 5: Create the Neural Network Model\n",
        "model = Sequential([\n",
        "    Dense(16, input_shape=(padded.shape[1],), activation='relu'),\n",
        "    Dense(16, activation='relu'),\n",
        "    Dense(len(set(labels)), activation='softmax')\n",
        "])\n",
        "\n",
        "model.compile(loss='sparse_categorical_crossentropy', optimizer='adam', metrics=['accuracy'])\n",
        "\n",
        "# Step 6: Train the Model\n",
        "model.fit(padded, label_seq, epochs=100, verbose=0)\n",
        "\n",
        "# Step 7: Make a Prediction Function\n",
        "def predict_class(text):\n",
        "    seq = tokenizer.texts_to_sequences([text])\n",
        "    pad = pad_sequences(seq, maxlen=padded.shape[1], padding='post')\n",
        "    pred = model.predict(pad)\n",
        "    class_num = np.argmax(pred)\n",
        "    class_label = list(label_tokenizer.word_index.keys())[class_num]\n",
        "    print(f\"Input: '{text}' → Predicted Intent: '{class_label}'\")\n"
      ]
    },
    {
      "cell_type": "code",
      "source": [
        "# Step 8: Test the AI!\n",
        "predict_class(\"hello\")\n",
        "predict_class(\"thank you very much\")\n",
        "predict_class(\"i need some help\")\n",
        "predict_class(\"bye bye\")"
      ],
      "metadata": {
        "colab": {
          "base_uri": "https://localhost:8080/"
        },
        "id": "NnEPQn7RiQAM",
        "outputId": "d2d84791-6003-4028-c006-cbdab1e0cb02"
      },
      "execution_count": 3,
      "outputs": [
        {
          "output_type": "stream",
          "name": "stdout",
          "text": [
            "\u001b[1m1/1\u001b[0m \u001b[32m━━━━━━━━━━━━━━━━━━━━\u001b[0m\u001b[37m\u001b[0m \u001b[1m0s\u001b[0m 68ms/step\n",
            "Input: 'hello' → Predicted Intent: 'thanks'\n",
            "\u001b[1m1/1\u001b[0m \u001b[32m━━━━━━━━━━━━━━━━━━━━\u001b[0m\u001b[37m\u001b[0m \u001b[1m0s\u001b[0m 36ms/step\n",
            "Input: 'thank you very much' → Predicted Intent: 'help'\n",
            "\u001b[1m1/1\u001b[0m \u001b[32m━━━━━━━━━━━━━━━━━━━━\u001b[0m\u001b[37m\u001b[0m \u001b[1m0s\u001b[0m 37ms/step\n",
            "Input: 'i need some help' → Predicted Intent: 'help'\n",
            "\u001b[1m1/1\u001b[0m \u001b[32m━━━━━━━━━━━━━━━━━━━━\u001b[0m\u001b[37m\u001b[0m \u001b[1m0s\u001b[0m 38ms/step\n",
            "Input: 'bye bye' → Predicted Intent: 'help'\n"
          ]
        }
      ]
    }
  ]
}